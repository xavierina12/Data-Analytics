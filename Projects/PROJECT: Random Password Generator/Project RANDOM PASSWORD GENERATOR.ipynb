{
 "cells": [
  {
   "cell_type": "code",
   "execution_count": 1,
   "id": "b9904917",
   "metadata": {},
   "outputs": [
    {
     "name": "stdout",
     "output_type": "stream",
     "text": [
      "RANDOM PASSWORD GENERATOR\n",
      "Enter the length of the Password: 10\n",
      "<S3LQ|~nAl\n"
     ]
    }
   ],
   "source": [
    "import random\n",
    "import string\n",
    "\n",
    "print(\"RANDOM PASSWORD GENERATOR\")\n",
    "MAX_LEN = int(input(\"Enter the length of the Password: \"))\n",
    "\n",
    "Digits=[i for i in range(10)]\n",
    "DIGITS = list(map(str,Digits))\n",
    "\n",
    "lower=string.ascii_lowercase\n",
    "LOCASE_CHARACTERS =list(lower)\n",
    "\n",
    "upper=string.ascii_uppercase\n",
    "UPCASE_CHARACTERS =list(upper)\n",
    "SYMBOLS = ['@', '#', '$', '%', '=', ':', '?', '.', '/', '|', '~', '>','*', '(', ')', '<']\n",
    "\n",
    "# combines all the list above to form one list\n",
    "COMBINED_LIST = DIGITS + UPCASE_CHARACTERS + LOCASE_CHARACTERS + SYMBOLS\n",
    "\n",
    "# randomly select at least one character from each character set above\n",
    "rand_digit = random.choice(DIGITS)\n",
    "rand_upper = random.choice(UPCASE_CHARACTERS)\n",
    "rand_lower = random.choice(LOCASE_CHARACTERS)\n",
    "rand_symbol = random.choice(SYMBOLS)\n",
    "\n",
    "temp_pass = rand_digit + rand_upper + rand_lower + rand_symbol\n",
    "\n",
    "# now that we are sure we have at least one character from each\n",
    "# set of characters, we fill the rest of\n",
    "# the password length by selecting randomly from the combined\n",
    "# list of character above.\n",
    "\n",
    "for x in range(MAX_LEN - 4):\n",
    "    temp_pass = temp_pass + random.choice(COMBINED_LIST)\n",
    "\n",
    "temp_pass_list = list(temp_pass)\n",
    "random.shuffle(temp_pass_list)\n",
    "\n",
    "#After shuffling join the characters\n",
    "password=\"\".join(temp_pass_list)\n",
    "\n",
    "# print out password\n",
    "print(password)\n"
   ]
  },
  {
   "cell_type": "code",
   "execution_count": null,
   "id": "ea2df2d5",
   "metadata": {},
   "outputs": [],
   "source": []
  }
 ],
 "metadata": {
  "kernelspec": {
   "display_name": "Python 3 (ipykernel)",
   "language": "python",
   "name": "python3"
  },
  "language_info": {
   "codemirror_mode": {
    "name": "ipython",
    "version": 3
   },
   "file_extension": ".py",
   "mimetype": "text/x-python",
   "name": "python",
   "nbconvert_exporter": "python",
   "pygments_lexer": "ipython3",
   "version": "3.9.7"
  }
 },
 "nbformat": 4,
 "nbformat_minor": 5
}
