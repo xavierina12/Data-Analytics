{
 "cells": [
  {
   "cell_type": "code",
   "execution_count": 1,
   "id": "b3831954",
   "metadata": {},
   "outputs": [
    {
     "name": "stdout",
     "output_type": "stream",
     "text": [
      "Enter first number:1\n",
      "Enter second number:2\n",
      "Enter third number:3\n",
      "Maximum element in the list is : 3 \n",
      "Minimum element in the list is : 1\n"
     ]
    }
   ],
   "source": [
    "#Assignment\n",
    "#1.Write a function to find the Max of three numbers.\n",
    "def max1():\n",
    "    lst = []\n",
    "    num1 = int(input('Enter first number:'))\n",
    "    num2 = int(input('Enter second number:'))\n",
    "    num3 = int(input('Enter third number:'))\n",
    "    lst=[num1,num2,num3]\n",
    "    print(\"Maximum element in the list is :\", max(lst), \"\\nMinimum element in the list is :\", min(lst))\n",
    "\n",
    "max1()"
   ]
  },
  {
   "cell_type": "code",
   "execution_count": 3,
   "id": "78bebc2a",
   "metadata": {},
   "outputs": [
    {
     "name": "stdout",
     "output_type": "stream",
     "text": [
      "How many numbers in a list: 5\n",
      "Enter number 1\n",
      "Enter number 2\n",
      "Enter number 3\n",
      "Enter number 4\n",
      "Enter number 5\n",
      "Sum of the list 15\n"
     ]
    }
   ],
   "source": [
    "#2.Write a function to sum all the numbers in a list.\n",
    "def listcreate(a):\n",
    "    for n in range(num):\n",
    "        numbers = int(input('Enter number '))\n",
    "        a.append(numbers)\n",
    "    return(a)\n",
    "\n",
    "def sum1(l):\n",
    "    print(\"Sum of the list\", sum(l))\n",
    "    \n",
    "num = int(input('How many numbers in a list: '))\n",
    "lst = []\n",
    "listcreate(lst)\n",
    "sum1(lst)"
   ]
  },
  {
   "cell_type": "code",
   "execution_count": 4,
   "id": "f2f20a36",
   "metadata": {},
   "outputs": [
    {
     "name": "stdout",
     "output_type": "stream",
     "text": [
      "How many numbers in a list: 5\n",
      "Enter number 1\n",
      "Enter number 2\n",
      "Enter number 3\n",
      "Enter number 4\n",
      "Enter number 5\n",
      "Multiplication of the list 120\n"
     ]
    }
   ],
   "source": [
    "#3.Write a function to multiply all the numbers in a list.\n",
    "def listcreate(a):\n",
    "    for n in range(num):\n",
    "        numbers = int(input('Enter number '))\n",
    "        a.append(numbers)\n",
    "    return(a)\n",
    "\n",
    "def multiply1(l):\n",
    "    if len(l)==1:\n",
    "        print(l[0])\n",
    "    else:\n",
    "        a=l[0]\n",
    "        b=l[1]\n",
    "        mult=a*b\n",
    "        for i in range(len(l)-2):\n",
    "            a=mult\n",
    "            b=l[i+2]\n",
    "            mult=a*b\n",
    "            \n",
    "            \n",
    "        print(\"Multiplication of the list\", mult)\n",
    "\n",
    "num = int(input('How many numbers in a list: '))\n",
    "lst = []\n",
    "listcreate(lst)\n",
    "multiply1(lst)"
   ]
  },
  {
   "cell_type": "code",
   "execution_count": 5,
   "id": "708a0edb",
   "metadata": {},
   "outputs": [
    {
     "name": "stdout",
     "output_type": "stream",
     "text": [
      "Enter a string:Hi my name is rina\n",
      "reverse of the string anir si eman ym iH\n"
     ]
    }
   ],
   "source": [
    "#4.Write a function to reverse a string\n",
    "def reverse1(a):\n",
    "    print(\"reverse of the string\",a[::-1])\n",
    "\n",
    "a=str(input('Enter a string:'))\n",
    "reverse1(a)"
   ]
  },
  {
   "cell_type": "code",
   "execution_count": 8,
   "id": "4c120d04",
   "metadata": {},
   "outputs": [
    {
     "name": "stdout",
     "output_type": "stream",
     "text": [
      "\n",
      "Please Enter the number : 5\n",
      "factorial of 5 is  120\n"
     ]
    }
   ],
   "source": [
    "#5.Write a function to calculate the factorial of a number\n",
    "def factorial(x):\n",
    "  product=1\n",
    "  for i in range(1,x+1):\n",
    "    product=i*product\n",
    "\n",
    "  print(\"factorial of %a is \" %x, product)\n",
    "\n",
    "Num = int(input(\"\\nPlease Enter the number : \"))\n",
    "factorial(Num)"
   ]
  },
  {
   "cell_type": "code",
   "execution_count": 9,
   "id": "bf28dbdf",
   "metadata": {},
   "outputs": [
    {
     "name": "stdout",
     "output_type": "stream",
     "text": [
      "Enter a string:xavierina\n",
      "uppercase letters= 0\n",
      "lowercase letters= 9\n"
     ]
    }
   ],
   "source": [
    "#6.Write a function that accepts a string and calculate the number of upper-case letters and lower-case letters.\n",
    "def countul(a):\n",
    "    count1=0\n",
    "    count2=0\n",
    "    for i in a:\n",
    "        if (i.isupper()):\n",
    "            count1+=1\n",
    "        elif (i.islower()):\n",
    "             count2+=1\n",
    "        else:\n",
    "            pass\n",
    "\n",
    "    print(\"uppercase letters=\",count1)\n",
    "    print(\"lowercase letters=\",count2)\n",
    "    \n",
    "a=str(input('Enter a string:'))\n",
    "countul(a)"
   ]
  },
  {
   "cell_type": "code",
   "execution_count": 13,
   "id": "d5458d18",
   "metadata": {},
   "outputs": [
    {
     "name": "stdout",
     "output_type": "stream",
     "text": [
      "How many elements in a list: 5\n",
      "Enter element 1\n",
      "Enter element a\n",
      "Enter element a\n",
      "Enter element 2\n",
      "Enter element a\n",
      "unique list= ['1', 'a', '2']\n",
      "Unique elements in the list:  1 ,a ,2\n"
     ]
    }
   ],
   "source": [
    "#7.Write a function that takes a list and returns a new list with unique elements of the first list\"\"\"\n",
    "def listcreate(a):\n",
    "    for n in range(num):\n",
    "        element= input('Enter element ')\n",
    "        a.append(element)\n",
    "    return(a)\n",
    "\n",
    "def uni(b):\n",
    "    unique1=list(dict.fromkeys(b))\n",
    "    print(\"unique list=\",unique1)\n",
    "    print(\"Unique elements in the list: \",\" ,\".join(unique1))\n",
    "    \n",
    "num = int(input('How many elements in a list: '))\n",
    "lst = []\n",
    "listcreate(lst)\n",
    "uni(lst)"
   ]
  },
  {
   "cell_type": "code",
   "execution_count": null,
   "id": "f2b59dcf",
   "metadata": {},
   "outputs": [],
   "source": []
  }
 ],
 "metadata": {
  "kernelspec": {
   "display_name": "Python 3 (ipykernel)",
   "language": "python",
   "name": "python3"
  },
  "language_info": {
   "codemirror_mode": {
    "name": "ipython",
    "version": 3
   },
   "file_extension": ".py",
   "mimetype": "text/x-python",
   "name": "python",
   "nbconvert_exporter": "python",
   "pygments_lexer": "ipython3",
   "version": "3.9.7"
  }
 },
 "nbformat": 4,
 "nbformat_minor": 5
}
