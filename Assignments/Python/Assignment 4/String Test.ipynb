{
 "cells": [
  {
   "cell_type": "markdown",
   "id": "939e590a",
   "metadata": {},
   "source": [
    "## Question 1: Write a program to create a string made of the first, middle and last character. Input – “Ramandeep\"  Output – Rnp\n"
   ]
  },
  {
   "cell_type": "code",
   "execution_count": 1,
   "id": "34f3a2d3",
   "metadata": {},
   "outputs": [
    {
     "name": "stdout",
     "output_type": "stream",
     "text": [
      "Rnp\n"
     ]
    }
   ],
   "source": [
    "a=\"Ramandeep\"\n",
    "first=a[0]\n",
    "if (len(a)%2==0):\n",
    "    middle=a[int(len(a)/2)-1:int(len(a)/2)+1]\n",
    "else:\n",
    "    middle=a[int(len(a)/2)]\n",
    "last=a[-1]\n",
    "print(first+middle+last)"
   ]
  },
  {
   "cell_type": "markdown",
   "id": "0e12a673",
   "metadata": {},
   "source": [
    "## Question 2: Write a program to count the number of characters (character frequency) in a string."
   ]
  },
  {
   "cell_type": "code",
   "execution_count": 2,
   "id": "e369160f",
   "metadata": {},
   "outputs": [
    {
     "name": "stdout",
     "output_type": "stream",
     "text": [
      "Enter a string: Hi my name is xavierina\n",
      "Count of all characters is : \n",
      "{'H': 1, 'i': 4, ' ': 4, 'm': 2, 'y': 1, 'n': 2, 'a': 3, 'e': 2, 's': 1, 'x': 1, 'v': 1, 'r': 1}\n"
     ]
    }
   ],
   "source": [
    "str1=input(\"Enter a string: \")\n",
    "dict1={}\n",
    "for char in str1:\n",
    "    count=str1.count(char)\n",
    "    dict1[char]=count\n",
    "    \n",
    "print('Count of all characters is : \\n'+ str(dict1))"
   ]
  },
  {
   "cell_type": "markdown",
   "id": "47019380",
   "metadata": {},
   "source": [
    "## Question 3: Write a Python program that accepts a comma separated sequence of words as input and prints the unique words in sorted form (alphanumerically). \n",
    "## Sample Words : red, white, black, red, green, black \n",
    "## Expected Result : black, green, red, white\n"
   ]
  },
  {
   "cell_type": "code",
   "execution_count": 3,
   "id": "99a1fd2f",
   "metadata": {},
   "outputs": [
    {
     "name": "stdout",
     "output_type": "stream",
     "text": [
      "red,white,black,red,green,black\n",
      "['black', 'green', 'red', 'white']\n"
     ]
    }
   ],
   "source": [
    "a=input().split(',')\n",
    "a=list(set(a))\n",
    "a.sort()\n",
    "print(a)"
   ]
  }
 ],
 "metadata": {
  "kernelspec": {
   "display_name": "Python 3 (ipykernel)",
   "language": "python",
   "name": "python3"
  },
  "language_info": {
   "codemirror_mode": {
    "name": "ipython",
    "version": 3
   },
   "file_extension": ".py",
   "mimetype": "text/x-python",
   "name": "python",
   "nbconvert_exporter": "python",
   "pygments_lexer": "ipython3",
   "version": "3.9.7"
  }
 },
 "nbformat": 4,
 "nbformat_minor": 5
}
