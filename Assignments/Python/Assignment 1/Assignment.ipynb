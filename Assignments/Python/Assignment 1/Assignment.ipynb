{
 "cells": [
  {
   "cell_type": "code",
   "execution_count": 1,
   "id": "6f7ca46a",
   "metadata": {},
   "outputs": [
    {
     "data": {
      "text/plain": [
       "'\\nStep 1:Start\\nStep 2:Read values for variable a as basic salary\\nStep 3:hra=a*0.1\\nStep 4:da=a*0.05\\nStep 5:pf=a*0.05\\nStep 6:salary=(a+hra+da)-pf\\nStep 7:print salary\\nStep 8:stop'"
      ]
     },
     "execution_count": 1,
     "metadata": {},
     "output_type": "execute_result"
    }
   ],
   "source": [
    "#ASSIGNMENT 1\n",
    "#Algorithm to find average of five numbers\n",
    "\"\"\"\n",
    "Step 1:Start\n",
    "Step 2:Read values for variables n1,n2,n3,n4,n5\n",
    "Step 3:average=(n1+n2+n3+n4+n5)/5\n",
    "Step 4:Print average\n",
    "Step 5:Stop\"\"\"\n",
    "\n",
    "#Algorithm to find simple interest\n",
    "\"\"\"\n",
    "Step 1:Start\n",
    "Step 2:Read values for variables p,t,r\n",
    "Step 3:si=(p*t*r)/100\n",
    "Step 4:Print si\n",
    "Step 5:Stop\"\"\"\n",
    "\n",
    "#Algorithm to find swap of two numbers\n",
    "\"\"\"\n",
    "Step 1:Start\n",
    "Step 2:Read values for variables a,b\n",
    "Step 3:declare temp\n",
    "Step 4:temp=a\n",
    "Step 5:a=b\n",
    "Step 6:b=temp\n",
    "Step 7:print a,b\n",
    "Step 8:stop \"\"\"\n",
    "\n",
    "#Algorithm to find Area of circle\n",
    "\"\"\"\n",
    "Step 1:Start\n",
    "Step 2:Read values for variable r as radius\n",
    "Step 3:area=3.14*r*r\n",
    "Step 4:print area\n",
    "Step 5:Stop \"\"\"\n",
    "\n",
    "#Algorithm to find the next salary of an employee\n",
    "\"\"\"\n",
    "Step 1:Start\n",
    "Step 2:Read values for variable a as basic salary\n",
    "Step 3:hra=a*0.1\n",
    "Step 4:da=a*0.05\n",
    "Step 5:pf=a*0.05\n",
    "Step 6:salary=(a+hra+da)-pf\n",
    "Step 7:print salary\n",
    "Step 8:stop\"\"\"\n"
   ]
  },
  {
   "cell_type": "code",
   "execution_count": 2,
   "id": "622d616f",
   "metadata": {},
   "outputs": [
    {
     "name": "stdout",
     "output_type": "stream",
     "text": [
      "Enter First number= 1\n",
      "Enter Second number= 2\n",
      "Addition 3\n"
     ]
    }
   ],
   "source": [
    "#ASSIGNMENT 2\n",
    "#Addition of two numbers\n",
    "a=int(input(\"Enter First number= \"))\n",
    "b=int(input(\"Enter Second number= \"))\n",
    "print(\"Addition\",a+b)"
   ]
  },
  {
   "cell_type": "code",
   "execution_count": 3,
   "id": "aac7ecba",
   "metadata": {},
   "outputs": [
    {
     "name": "stdout",
     "output_type": "stream",
     "text": [
      "Enter First number= 1\n",
      "Enter Second number= 1\n",
      "Subtraction 0\n"
     ]
    }
   ],
   "source": [
    "#Subtraction of two numbers\n",
    "a=int(input(\"Enter First number= \"))\n",
    "b=int(input(\"Enter Second number= \"))\n",
    "print(\"Subtraction\",a-b)"
   ]
  },
  {
   "cell_type": "code",
   "execution_count": 4,
   "id": "e694f6ce",
   "metadata": {},
   "outputs": [
    {
     "name": "stdout",
     "output_type": "stream",
     "text": [
      "Enter First number= 1\n",
      "Enter Second number= 1\n",
      "Multiplication 1\n"
     ]
    }
   ],
   "source": [
    "#Multiplication of two numbers\n",
    "a=int(input(\"Enter First number= \"))\n",
    "b=int(input(\"Enter Second number= \"))\n",
    "print(\"Multiplication\",a*b)"
   ]
  },
  {
   "cell_type": "code",
   "execution_count": 5,
   "id": "453c3156",
   "metadata": {},
   "outputs": [
    {
     "name": "stdout",
     "output_type": "stream",
     "text": [
      "Enter First number= 1\n",
      "Enter Second number= 2\n",
      "Modulus 1\n"
     ]
    }
   ],
   "source": [
    "#Modulus of two numbers\n",
    "a=int(input(\"Enter First number= \"))\n",
    "b=int(input(\"Enter Second number= \"))\n",
    "print(\"Modulus\",a%b)"
   ]
  },
  {
   "cell_type": "code",
   "execution_count": 6,
   "id": "b6f4016c",
   "metadata": {},
   "outputs": [
    {
     "name": "stdout",
     "output_type": "stream",
     "text": [
      "Enter principal amount= 1\n",
      "Enter time= 1\n",
      "Enter rate= 1\n",
      "simple interest=  0.01\n"
     ]
    }
   ],
   "source": [
    "#Simple Interest\n",
    "p=int(input(\"Enter principal amount= \"))\n",
    "t=int(input(\"Enter time= \"))\n",
    "r=int(input(\"Enter rate= \"))\n",
    "print(\"simple interest= \",(p*t*r)/100)"
   ]
  },
  {
   "cell_type": "code",
   "execution_count": 7,
   "id": "d7fcf126",
   "metadata": {},
   "outputs": [
    {
     "name": "stdout",
     "output_type": "stream",
     "text": [
      "Enter First number= 1\n",
      "Enter Second number= 2\n",
      "2\n",
      "1\n"
     ]
    }
   ],
   "source": [
    "#Swap two numbers with using third variable\n",
    "a=int(input(\"Enter First number= \"))\n",
    "b=int(input(\"Enter Second number= \"))\n",
    "temp=a\n",
    "a=b\n",
    "b=temp\n",
    "print(a)\n",
    "print(b)"
   ]
  },
  {
   "cell_type": "code",
   "execution_count": 8,
   "id": "5e1e6647",
   "metadata": {},
   "outputs": [
    {
     "name": "stdout",
     "output_type": "stream",
     "text": [
      "Enter First number= 1\n",
      "Enter Second number= 2\n",
      "2\n",
      "1\n"
     ]
    }
   ],
   "source": [
    "#Swap two numbers without using third variable\n",
    "a=int(input(\"Enter First number= \"))\n",
    "b=int(input(\"Enter Second number= \"))\n",
    "a=a+b\n",
    "b=a-b\n",
    "a=a-b\n",
    "print(a)\n",
    "print(b)"
   ]
  },
  {
   "cell_type": "code",
   "execution_count": 9,
   "id": "65a775ac",
   "metadata": {},
   "outputs": [
    {
     "name": "stdout",
     "output_type": "stream",
     "text": [
      "Enter first subject marks= 1\n",
      "Enter Second subject marks= 2\n",
      "Enter third subject marks= 3\n",
      "Average of marks= 2.0\n"
     ]
    }
   ],
   "source": [
    "#Average of student marks\n",
    "a=int(input(\"Enter first subject marks= \"))\n",
    "b=int(input(\"Enter Second subject marks= \"))\n",
    "c=int(input(\"Enter third subject marks= \"))\n",
    "print(\"Average of marks=\", (a+b+c)/3)"
   ]
  },
  {
   "cell_type": "code",
   "execution_count": 10,
   "id": "c6354851",
   "metadata": {},
   "outputs": [
    {
     "name": "stdout",
     "output_type": "stream",
     "text": [
      "Enter the length of the square= 2\n",
      "Perimeter of a square= 8\n",
      "area of a square= 4\n"
     ]
    }
   ],
   "source": [
    "#Perimeter and area of a square\n",
    "a=int(input(\"Enter the length of the square= \"))\n",
    "print(\"Perimeter of a square=\", 4*a)\n",
    "print(\"area of a square=\", a*a)"
   ]
  },
  {
   "cell_type": "code",
   "execution_count": 11,
   "id": "e84ab1d5",
   "metadata": {},
   "outputs": [
    {
     "name": "stdout",
     "output_type": "stream",
     "text": [
      "Enter your basic salary= 10000\n",
      "Next Salary=  11000.0\n"
     ]
    }
   ],
   "source": [
    "#Salary of an employee\n",
    "a=int(input(\"Enter your basic salary= \"))\n",
    "hra=a*0.1\n",
    "da=a*0.05\n",
    "pf=a*0.05\n",
    "salary=(a+hra+da)-pf\n",
    "print(\"Next Salary= \",salary)"
   ]
  },
  {
   "cell_type": "code",
   "execution_count": 12,
   "id": "d7111b71",
   "metadata": {},
   "outputs": [
    {
     "name": "stdout",
     "output_type": "stream",
     "text": [
      "enter year=2000\n",
      "Leap Year\n"
     ]
    }
   ],
   "source": [
    "#ASSIGNMENT 3\n",
    "#year is leap year or not\n",
    "year=int(input(\"enter year=\"))\n",
    "if (year % 400 == 0) and (year % 100 == 0):\n",
    "  print(\"Leap Year\")\n",
    "elif (year % 4 ==0) and (year % 100 != 0):\n",
    "  print(\"Leap Year\")\n",
    "else:\n",
    "  print(\"Not a leap year\")"
   ]
  },
  {
   "cell_type": "code",
   "execution_count": 13,
   "id": "fc62c209",
   "metadata": {},
   "outputs": [
    {
     "name": "stdout",
     "output_type": "stream",
     "text": [
      "enter a number from 1 to 7= 1\n",
      "Monday\n"
     ]
    }
   ],
   "source": [
    "#Print respective day according to 1 to 7\n",
    "day=int(input(\"enter a number from 1 to 7= \"))\n",
    "if(day==1):\n",
    "    print(\"Monday\")\n",
    "elif(day==2):\n",
    "    print(\"Tuesday\")\n",
    "elif(day==3):\n",
    "    print(\"Wednesday\")\n",
    "elif(day==4):\n",
    "    print(\"Thursday\")\n",
    "elif(day==5):\n",
    "    print(\"Friday\")\n",
    "elif(day==6):\n",
    "    print(\"Saturday\")\n",
    "elif(day==7):\n",
    "    print(\"Sunday\")\n",
    "else:\n",
    "    print(\"Enter numbers from 1to7\")"
   ]
  },
  {
   "cell_type": "code",
   "execution_count": 14,
   "id": "3dfac146",
   "metadata": {},
   "outputs": [
    {
     "name": "stdout",
     "output_type": "stream",
     "text": [
      "Enter your mark= 90\n",
      "Grade B\n"
     ]
    }
   ],
   "source": [
    "\"\"\".Program to print the grade of student according to given criteria \n",
    "   >90 = A\n",
    "   >75 = b\n",
    "   >65 =C\n",
    "   >50 = D\n",
    "   else fail\"\"\"\n",
    "mark=int(input(\"Enter your mark= \"))\n",
    "if(mark>90):\n",
    "    print(\"Grade A\")\n",
    "elif(mark>75):\n",
    "    print(\"Grade B\")\n",
    "elif(mark>65):\n",
    "    print(\"Grade C\")\n",
    "elif(mark>50):\n",
    "    print(\"Grade D\")\n",
    "else:\n",
    "    print(\"Fail\")"
   ]
  },
  {
   "cell_type": "code",
   "execution_count": 1,
   "id": "6d6a8ee5",
   "metadata": {},
   "outputs": [
    {
     "name": "stdout",
     "output_type": "stream",
     "text": [
      "Enter First number= 3\n",
      "Enter Second number= 2\n",
      "Enter Third Number= 1\n",
      "[1, 2, 3]\n"
     ]
    }
   ],
   "source": [
    "#program to print the three numbers in ascending order\n",
    "a=int(input(\"Enter First number= \"))\n",
    "b=int(input(\"Enter Second number= \"))\n",
    "c=int(input(\"Enter Third Number= \"))\n",
    "d=[a,b,c]\n",
    "d.sort()\n",
    "print(d)"
   ]
  },
  {
   "cell_type": "code",
   "execution_count": 16,
   "id": "331474f5",
   "metadata": {},
   "outputs": [
    {
     "name": "stdout",
     "output_type": "stream",
     "text": [
      "Calculator\n",
      "1:Addition\n",
      "2:Multiplication\n",
      "3:Subtraction\n",
      "4:Division\n",
      "Enter the operation number= 1\n",
      "Enter First number= 1\n",
      "Enter Second number= 2\n",
      "Addition 3\n"
     ]
    }
   ],
   "source": [
    "#write a program to create the calculator\n",
    "print(\"Calculator\")\n",
    "print(\"1:Addition\")\n",
    "print(\"2:Multiplication\")\n",
    "print(\"3:Subtraction\")\n",
    "print(\"4:Division\")\n",
    "op=int(input(\"Enter the operation number= \"))      \n",
    "a=int(input(\"Enter First number= \"))\n",
    "b=int(input(\"Enter Second number= \"))\n",
    "if op==1:\n",
    "    print(\"Addition\", a+b)\n",
    "elif op==2:\n",
    "    print(\"Multiplication \", a*b)\n",
    "elif op==3:\n",
    "    print(\"Subtraction \", a-b)\n",
    "elif op==4:\n",
    "    print(\"Division\", a//b)\n",
    "else:\n",
    "    print(\"Enter a valid number from the menu\")      \n",
    "    "
   ]
  },
  {
   "cell_type": "code",
   "execution_count": 17,
   "id": "3593238b",
   "metadata": {},
   "outputs": [
    {
     "name": "stdout",
     "output_type": "stream",
     "text": [
      "enter month number= 12\n",
      "December\n"
     ]
    }
   ],
   "source": [
    "#Write a program to print the respective month according to number 1 to 12\n",
    "month=int(input(\"enter month number= \"))\n",
    "if(month==1):\n",
    "    print(\"January\")\n",
    "elif(month==2):\n",
    "    print(\"February\")\n",
    "elif(month==3):\n",
    "    print(\"March\")\n",
    "elif(month==4):\n",
    "    print(\"April\")\n",
    "elif(month==5):\n",
    "    print(\"May\")\n",
    "elif(month==6):\n",
    "    print(\"June\")\n",
    "elif(month==7):\n",
    "    print(\"July\")\n",
    "elif(month==8):\n",
    "    print(\"August\")\n",
    "elif(month==9):\n",
    "    print(\"September\")\n",
    "elif(month==10):\n",
    "    print(\"October\")\n",
    "elif(month==11):\n",
    "    print(\"November\")\n",
    "elif(month==12):\n",
    "    print(\"December\")\n",
    "else:\n",
    "    print(\"Enter correct month number\")"
   ]
  },
  {
   "cell_type": "code",
   "execution_count": 2,
   "id": "0306a97b",
   "metadata": {},
   "outputs": [
    {
     "name": "stdout",
     "output_type": "stream",
     "text": [
      "Enter First number= 3\n",
      "Enter Second number= 2\n",
      "Enter Third Number= 1\n",
      "the smallest number= 1\n",
      "the greatest number= 3\n"
     ]
    }
   ],
   "source": [
    "#Print the greatest and smallest number between three numbers\n",
    "a=int(input(\"Enter First number= \"))\n",
    "b=int(input(\"Enter Second number= \"))\n",
    "c=int(input(\"Enter Third Number= \"))\n",
    "d=[a,b,c]\n",
    "d.sort()\n",
    "print(\"the smallest number=\",d[0])\n",
    "print(\"the greatest number=\",d[2])\n"
   ]
  },
  {
   "cell_type": "code",
   "execution_count": 1,
   "id": "ba6ed613",
   "metadata": {},
   "outputs": [
    {
     "name": "stdout",
     "output_type": "stream",
     "text": [
      "Please Enter a Value of a Quadratic Equation : 1\n",
      "Please Enter b Value of a Quadratic Equation : 2\n",
      "Please Enter c Value of a Quadratic Equation : 3\n",
      "Two Distinct Complex Roots Exists: root1 = -1.00+1.41 and root2 = -1.00-1.41\n"
     ]
    }
   ],
   "source": [
    "#ASSIGNMENT 4\n",
    "#1.Program to find the roots of quadratic equation\n",
    "import math\n",
    "\n",
    "a = int(input(\"Please Enter a Value of a Quadratic Equation : \"))\n",
    "b = int(input(\"Please Enter b Value of a Quadratic Equation : \"))\n",
    "c = int(input(\"Please Enter c Value of a Quadratic Equation : \"))\n",
    "\n",
    "discriminant = (b * b) - (4 * a * c)\n",
    "\n",
    "if(discriminant > 0):\n",
    "    root1 = (-b + math.sqrt(discriminant) / (2 * a))\n",
    "    root2 = (-b - math.sqrt(discriminant) / (2 * a))\n",
    "    print(\"Two Distinct Real Roots Exists: root1 = %.2f and root2 = %.2f\" %(root1, root2))\n",
    "elif(discriminant == 0):\n",
    "    root1 = root2 = -b / (2 * a)\n",
    "    print(\"Two Equal and Real Roots Exists: root1 = %.2f and root2 = %.2f\" %(root1, root2))\n",
    "elif(discriminant < 0):\n",
    "    root1 = root2 = -b / (2 * a)\n",
    "    imaginary = math.sqrt(-discriminant) / (2 * a)\n",
    "    print(\"Two Distinct Complex Roots Exists: root1 = %.2f+%.2f and root2 = %.2f-%.2f\" %(root1, imaginary, root2, imaginary))"
   ]
  },
  {
   "cell_type": "code",
   "execution_count": 2,
   "id": "21dee033",
   "metadata": {},
   "outputs": [
    {
     "name": "stdout",
     "output_type": "stream",
     "text": [
      " Please Enter any Number: 3\n",
      " 3 is a Prime Number\n"
     ]
    }
   ],
   "source": [
    "#2.Program to check whether a given number is prime or not\n",
    "Number = int(input(\" Please Enter any Number: \"))\n",
    "count = 0\n",
    "a=0\n",
    "for i in range(2, Number+1):\n",
    "    if(Number % i == 0):\n",
    "        count = count + 1\n",
    "        a=i\n",
    "        break\n",
    "\n",
    "if (count == 1 and a==Number):\n",
    "    print(\" %d is a Prime Number\" %Number)\n",
    "else:\n",
    "    print(\" %d is not a Prime Number\" %Number)"
   ]
  },
  {
   "cell_type": "code",
   "execution_count": 4,
   "id": "a1291e51",
   "metadata": {},
   "outputs": [
    {
     "name": "stdout",
     "output_type": "stream",
     "text": [
      " Please Enter the range for fibonacci: 5\n",
      "0\n",
      "1\n",
      "1\n",
      "2\n",
      "3\n"
     ]
    }
   ],
   "source": [
    "#3.program to print fibonacci series\n",
    "N= int(input(\" Please Enter the range for fibonacci: \"))\n",
    "x1=0\n",
    "x2=1\n",
    "print(x1)\n",
    "print(x2)\n",
    "for i in range(N-2):\n",
    "    temp=x1+x2\n",
    "    print(temp)\n",
    "    x1=x2\n",
    "    x2=temp"
   ]
  },
  {
   "cell_type": "code",
   "execution_count": 5,
   "id": "38b5b9a1",
   "metadata": {},
   "outputs": [
    {
     "name": "stdout",
     "output_type": "stream",
     "text": [
      "\n",
      "Please Enter the Value : 371\n",
      "\n",
      " 371 is Armstrong\n",
      "\n"
     ]
    }
   ],
   "source": [
    "#4.program to check amstrong number or not\n",
    "Num = int(input(\"\\nPlease Enter the Value : \"))\n",
    "\n",
    "Sum = 0\n",
    "Times = 0\n",
    "           \n",
    "Temp = Num\n",
    "while Temp > 0:\n",
    "    Times = Times + 1\n",
    "    Temp = Temp // 10\n",
    "\n",
    "Temp=Num\n",
    "while Temp > 0:\n",
    "    Reminder = Temp % 10\n",
    "    Sum = Sum + (Reminder ** Times)\n",
    "    Temp = Temp // 10\n",
    "\n",
    "if Num == Sum:\n",
    "    print(\"\\n %d is Armstrong\\n\" %Num)\n",
    "else:\n",
    "    print(\"\\n %d is Not an Armstrong\\n\" %Num)"
   ]
  },
  {
   "cell_type": "code",
   "execution_count": 8,
   "id": "5f11e463",
   "metadata": {},
   "outputs": [
    {
     "name": "stdout",
     "output_type": "stream",
     "text": [
      " Please Enter the size of the pyramid in the range of 5-50 10\n",
      "          \n",
      "         * \n",
      "        * * \n",
      "       * * * \n",
      "      * * * * \n",
      "     * * * * * \n",
      "    * * * * * * \n",
      "   * * * * * * * \n",
      "  * * * * * * * * \n",
      " * * * * * * * * * \n"
     ]
    }
   ],
   "source": [
    "#5.program to print the pyramid (nested loop)\n",
    "n= int(input(\" Please Enter the size of the pyramid in the range of 5-50 \"))\n",
    "space=n\n",
    "for i in range(n):\n",
    "    for k in range(space):\n",
    "        print(end=\" \")\n",
    "    for j in range(i):\n",
    "        print(\"*\", end=\" \")\n",
    "    space=space-1\n",
    "    print()"
   ]
  },
  {
   "cell_type": "code",
   "execution_count": 11,
   "id": "94a7cf1f",
   "metadata": {},
   "outputs": [
    {
     "name": "stdout",
     "output_type": "stream",
     "text": [
      " Please Enter any Number: 1\n",
      "Factorial of 1 = 1\n",
      "\n",
      " Sum of Factorials of a Given Number 1 = 1\n",
      " 1 is a Strong Number\n"
     ]
    }
   ],
   "source": [
    "#6.program to check strong number or not\n",
    "N= int(input(\" Please Enter any Number: \"))\n",
    "Temp=N\n",
    "sum=0\n",
    "while(Temp>0):\n",
    "    r=Temp%10\n",
    "    fact=1\n",
    "    for i in range(1,r+1):\n",
    "        fact=i*fact\n",
    "    print(\"Factorial of %d = %d\" %(r,fact))\n",
    "    sum=sum+fact\n",
    "    Temp=Temp//10\n",
    "\n",
    "print(\"\\n Sum of Factorials of a Given Number %d = %d\" %(N, sum))\n",
    "    \n",
    "if (sum == N):\n",
    "    print(\" %d is a Strong Number\" %N)\n",
    "else:\n",
    "    print(\" %d is not a Strong Number\" %N)"
   ]
  },
  {
   "cell_type": "code",
   "execution_count": 12,
   "id": "ca5e467f",
   "metadata": {},
   "outputs": [
    {
     "name": "stdout",
     "output_type": "stream",
     "text": [
      " Please Enter any Number: 1\n",
      " 1 is not a Perfect Number\n"
     ]
    }
   ],
   "source": [
    "#7.program to check perfect number or not\n",
    "\n",
    "Number = int(input(\" Please Enter any Number: \"))\n",
    "Sum = 0\n",
    "for i in range(1, Number):\n",
    "    if(Number % i == 0):\n",
    "        Sum = Sum + i\n",
    "if (Sum == Number):\n",
    "    print(\" %d is a Perfect Number\" %Number)\n",
    "else:\n",
    "    print(\" %d is not a Perfect Number\" %Number)"
   ]
  },
  {
   "cell_type": "code",
   "execution_count": 13,
   "id": "6f077f4f",
   "metadata": {},
   "outputs": [
    {
     "name": "stdout",
     "output_type": "stream",
     "text": [
      "Please Enter any Value: 111\n",
      "Reverse of it is = 111\n",
      "111 is a Palindrome\n"
     ]
    }
   ],
   "source": [
    "#8.program to check whether a given number is palindrome or not\n",
    "number = int(input(\"Please Enter any Value: \"))\n",
    "\n",
    "reverse = 0\n",
    "temp = number\n",
    "\n",
    "while(temp > 0):\n",
    "    Reminder = temp % 10\n",
    "    reverse = (reverse * 10) + Reminder\n",
    "    temp = temp //10\n",
    " \n",
    "print(\"Reverse of it is = %d\" %reverse)\n",
    "\n",
    "if(number == reverse):\n",
    "    print(\"%d is a Palindrome\" %number)\n",
    "else:\n",
    "    print(\"%d is Not\" %number)"
   ]
  },
  {
   "cell_type": "code",
   "execution_count": 14,
   "id": "e52ca88d",
   "metadata": {},
   "outputs": [
    {
     "name": "stdout",
     "output_type": "stream",
     "text": [
      "Please Enter any Number: 5\n",
      "Factors of a Given Number 5 are:\n",
      "1\n",
      "5\n"
     ]
    }
   ],
   "source": [
    "#9.find factors of a number\n",
    "number = int(input(\"Please Enter any Number: \"))\n",
    "\n",
    "print(\"Factors of a Given Number {0} are:\".format(number))\n",
    "\n",
    "for value in range(1, number + 1):\n",
    "    if(number%value == 0):\n",
    "        print(\"{0}\".format(value))"
   ]
  },
  {
   "cell_type": "code",
   "execution_count": 15,
   "id": "f703c5f9",
   "metadata": {},
   "outputs": [
    {
     "name": "stdout",
     "output_type": "stream",
     "text": [
      "[0, 1, 4, 9, 16, 25, 36, 49, 64, 81, 100]\n"
     ]
    }
   ],
   "source": [
    "#ASSIGNMENT 5\n",
    "#1.Calculate square  of all numbers between 0-10 using list comprehensions\n",
    "square=[i*i for i in range(11)]\n",
    "print(square)"
   ]
  },
  {
   "cell_type": "code",
   "execution_count": 16,
   "id": "9ed66830",
   "metadata": {},
   "outputs": [
    {
     "name": "stdout",
     "output_type": "stream",
     "text": [
      "10x1= 10\n",
      "10x2= 20\n",
      "10x3= 30\n",
      "10x4= 40\n",
      "10x5= 50\n",
      "10x6= 60\n",
      "10x7= 70\n",
      "10x8= 80\n",
      "10x9= 90\n",
      "10x10= 100\n"
     ]
    }
   ],
   "source": [
    "#2.multiply whole list by 10\n",
    "m=[1,2,3,4,5,6,7,8,9,10]\n",
    "for i in m:\n",
    "  print(\"10x%i=\" %i,i*10)"
   ]
  },
  {
   "cell_type": "code",
   "execution_count": 17,
   "id": "79c2e1d4",
   "metadata": {},
   "outputs": [
    {
     "name": "stdout",
     "output_type": "stream",
     "text": [
      "Enter a string with numbers=python 20\n",
      "['python', '20']\n",
      "[20]\n"
     ]
    }
   ],
   "source": [
    "#3.extract numbers from a string using list comprehension\n",
    "a=str(input(\"Enter a string with numbers=\"))\n",
    "b=a.split()\n",
    "print(b)\n",
    "number=[int(i) for i in b if i.isdigit()]\n",
    "print(number)"
   ]
  },
  {
   "cell_type": "code",
   "execution_count": 22,
   "id": "cb96576c",
   "metadata": {},
   "outputs": [
    {
     "name": "stdout",
     "output_type": "stream",
     "text": [
      "['a', 'b', 'c']\n"
     ]
    }
   ],
   "source": [
    "#4.Write the program to remove the duplicate element of the list.\n",
    "\n",
    "dup = [\"a\", \"b\", \"a\", \"c\", \"c\"]\n",
    "dup = list( dict.fromkeys(dup) )\n",
    "print(dup)\n",
    "\n"
   ]
  },
  {
   "cell_type": "code",
   "execution_count": 23,
   "id": "58bb49e7",
   "metadata": {},
   "outputs": [
    {
     "name": "stdout",
     "output_type": "stream",
     "text": [
      "Sum=  55\n"
     ]
    }
   ],
   "source": [
    "#5.Write a program to find the sum of the element in the list.\n",
    "m=[1,2,3,4,5,6,7,8,9,10]\n",
    "sum=0\n",
    "for i in m:\n",
    "  sum=sum+i\n",
    "\n",
    "print(\"Sum= \",sum)"
   ]
  },
  {
   "cell_type": "code",
   "execution_count": 24,
   "id": "283bbf0c",
   "metadata": {},
   "outputs": [
    {
     "name": "stdout",
     "output_type": "stream",
     "text": [
      "[3, 5]\n"
     ]
    }
   ],
   "source": [
    "#6.Write the program to find the lists consist of at least one common element.\n",
    "list1 = [1,2,3,4,5,6]\n",
    "list2 = [3,5,7,9]\n",
    "common=list(set(list1).intersection(list2))\n",
    "print(common)"
   ]
  },
  {
   "cell_type": "code",
   "execution_count": 26,
   "id": "742c1f85",
   "metadata": {},
   "outputs": [
    {
     "name": "stdout",
     "output_type": "stream",
     "text": [
      "P\n"
     ]
    }
   ],
   "source": [
    "#Assignment\n",
    "#1.first character in string\n",
    "a=\"Python\"\n",
    "print(a[0])\n"
   ]
  },
  {
   "cell_type": "code",
   "execution_count": 27,
   "id": "fb563728",
   "metadata": {},
   "outputs": [
    {
     "name": "stdout",
     "output_type": "stream",
     "text": [
      "n\n"
     ]
    }
   ],
   "source": [
    "#2.last character in string using len function\n",
    "a=\"Python\"\n",
    "print(a[len(a)-1])"
   ]
  },
  {
   "cell_type": "code",
   "execution_count": 29,
   "id": "3c13f2fe",
   "metadata": {},
   "outputs": [
    {
     "name": "stdout",
     "output_type": "stream",
     "text": [
      "Enter a string: python\n",
      "n\n"
     ]
    }
   ],
   "source": [
    "#3.last character in string\n",
    "a=input(\"Enter a string: \")\n",
    "count=0\n",
    "for i in a:\n",
    "  count+=1\n",
    "\n",
    "print(a[count-1])"
   ]
  },
  {
   "cell_type": "code",
   "execution_count": 32,
   "id": "fc42a6f8",
   "metadata": {},
   "outputs": [
    {
     "name": "stdout",
     "output_type": "stream",
     "text": [
      "Enter a string: xavierina\n",
      "i\n"
     ]
    }
   ],
   "source": [
    "#4.fetch the 7th element of the string\n",
    "a=input(\"Enter a string: \")\n",
    "if len(a)>=7:\n",
    "    print(a[6])\n",
    "else:\n",
    "    print(\"Enter characters more than 7\")"
   ]
  },
  {
   "cell_type": "code",
   "execution_count": 33,
   "id": "7e7ba1d2",
   "metadata": {},
   "outputs": [
    {
     "name": "stdout",
     "output_type": "stream",
     "text": [
      "Enter a string: xavierina\n",
      "xavir\n"
     ]
    }
   ],
   "source": [
    "#5.fetch all characters from 0 to 5 index location excluding the character at loc 5.\n",
    "a=input(\"Enter a string: \")\n",
    "\n",
    "if len(a)>=5:\n",
    "    b=list(a[:6])\n",
    "    b.pop(4)\n",
    "    print(''.join(b))\n",
    "else:\n",
    "  print(\"Enter characters more than 5\")"
   ]
  },
  {
   "cell_type": "code",
   "execution_count": 35,
   "id": "10ea5305",
   "metadata": {},
   "outputs": [
    {
     "name": "stdout",
     "output_type": "stream",
     "text": [
      "Enter a string: hi my name is xavierina\n",
      "name s\n"
     ]
    }
   ],
   "source": [
    "#6.retrieve all characters between 6 -12 index ecluding loc 12.\n",
    "a=input(\"Enter a string: \")\n",
    "\n",
    "if len(a)>=12:\n",
    "    b=list(a[6:13])\n",
    "    b.pop(-2)\n",
    "    print(''.join(b))\n",
    "else:\n",
    "  print(\"Enter characters more than 12\")"
   ]
  },
  {
   "cell_type": "code",
   "execution_count": 36,
   "id": "8a4f6169",
   "metadata": {},
   "outputs": [
    {
     "name": "stdout",
     "output_type": "stream",
     "text": [
      "Enter a string: xavierina\n",
      "rina\n"
     ]
    }
   ],
   "source": [
    "#7.retrieve last four characters of the string\n",
    "a=input(\"Enter a string: \")\n",
    "if len(a)>=4:\n",
    "  print(a[-4:])\n",
    "else:\n",
    "  print(\"Enter characters more than 4\")"
   ]
  },
  {
   "cell_type": "code",
   "execution_count": 37,
   "id": "c96a4165",
   "metadata": {},
   "outputs": [
    {
     "name": "stdout",
     "output_type": "stream",
     "text": [
      "Enter a string: xavierina\n",
      "ierina\n"
     ]
    }
   ],
   "source": [
    "#8.retrieve last six characters of the string\n",
    "a=input(\"Enter a string: \")\n",
    "if len(a)>=6:\n",
    "  print(a[-6:])\n",
    "else:\n",
    "  print(\"Enter characters more than 6\")"
   ]
  },
  {
   "cell_type": "code",
   "execution_count": 38,
   "id": "7eb1c09a",
   "metadata": {},
   "outputs": [
    {
     "name": "stdout",
     "output_type": "stream",
     "text": [
      "Enter a string: xavierina\n",
      "xavi\n"
     ]
    }
   ],
   "source": [
    "#9.retrieve first four characters of the string\n",
    "a=input(\"Enter a string: \")\n",
    "if len(a)>=4:\n",
    "  print(a[:4])\n",
    "else:\n",
    "  print(\"Enter characters more than 5\")"
   ]
  },
  {
   "cell_type": "code",
   "execution_count": 39,
   "id": "412996e2",
   "metadata": {},
   "outputs": [
    {
     "name": "stdout",
     "output_type": "stream",
     "text": [
      "Enter a string: xavierina\n",
      "anireivax\n"
     ]
    }
   ],
   "source": [
    "#Assignment\n",
    "#write a program to reverse the string.\n",
    "a1=str(input(\"Enter a string: \"))\n",
    "print(a1[::-1])"
   ]
  },
  {
   "cell_type": "code",
   "execution_count": 40,
   "id": "0d54b194",
   "metadata": {},
   "outputs": [
    {
     "name": "stdout",
     "output_type": "stream",
     "text": [
      "Please enter your own String : mom\n",
      "This is a Palindrome String\n"
     ]
    }
   ],
   "source": [
    "#Write a program to check whether a given string is palindrome or not.\n",
    "string = input(\"Please enter your own String : \")\n",
    "\n",
    "if(string == string[:: - 1]):\n",
    "    print(\"This is a Palindrome String\")\n",
    "else:\n",
    "    print(\"This is Not a Palindrome String\")"
   ]
  },
  {
   "cell_type": "code",
   "execution_count": 41,
   "id": "695c9bc0",
   "metadata": {},
   "outputs": [
    {
     "name": "stdout",
     "output_type": "stream",
     "text": [
      "Please enter your own String : xavierina\n",
      "The length of the string is 9\n"
     ]
    }
   ],
   "source": [
    "#write a program to find the length of string without using len function.\n",
    "\n",
    "string = input(\"Please enter your own String : \")\n",
    "count=0\n",
    "for i in string:\n",
    "  count+=1\n",
    "\n",
    "print(\"The length of the string is\", count)"
   ]
  },
  {
   "cell_type": "code",
   "execution_count": null,
   "id": "1508bb4b",
   "metadata": {},
   "outputs": [],
   "source": []
  }
 ],
 "metadata": {
  "kernelspec": {
   "display_name": "Python 3 (ipykernel)",
   "language": "python",
   "name": "python3"
  },
  "language_info": {
   "codemirror_mode": {
    "name": "ipython",
    "version": 3
   },
   "file_extension": ".py",
   "mimetype": "text/x-python",
   "name": "python",
   "nbconvert_exporter": "python",
   "pygments_lexer": "ipython3",
   "version": "3.9.7"
  }
 },
 "nbformat": 4,
 "nbformat_minor": 5
}
